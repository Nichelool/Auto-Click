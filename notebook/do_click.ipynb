{
 "cells": [
  {
   "cell_type": "code",
   "id": "initial_id",
   "metadata": {
    "collapsed": true,
    "ExecuteTime": {
     "end_time": "2024-11-24T11:21:38.596849Z",
     "start_time": "2024-11-24T11:21:38.557509Z"
    }
   },
   "source": [
    "import win32api\n",
    "import win32con\n",
    "import time\n",
    "import win32gui"
   ],
   "outputs": [],
   "execution_count": 1
  },
  {
   "metadata": {
    "ExecuteTime": {
     "end_time": "2024-11-24T11:21:40.486380Z",
     "start_time": "2024-11-24T11:21:40.480506Z"
    }
   },
   "cell_type": "code",
   "source": [
    "def doClick(cx,cy,hwnd):\n",
    "    long_position = win32api.MAKELONG(cx,cy)\n",
    "    win32api.SendMessage(hwnd, win32con.WM_LBUTTONDOWN, win32con.MK_LBUTTON, long_position)\n",
    "    time.sleep(0.1)\n",
    "    win32api.SendMessage(hwnd,win32con.WM_LBUTTONUP,win32con.MK_LBUTTON,long_position)\n",
    "    return"
   ],
   "id": "bb145ee452c6a08b",
   "outputs": [],
   "execution_count": 2
  },
  {
   "metadata": {
    "ExecuteTime": {
     "end_time": "2024-11-24T11:21:43.520530Z",
     "start_time": "2024-11-24T11:21:43.512037Z"
    }
   },
   "cell_type": "code",
   "source": [
    "name = 'MuMu模拟器1'\n",
    "hwnd = win32gui.FindWindow(None, name)\n",
    "child = win32gui.FindWindowEx(hwnd,None,None,None)\n",
    "child"
   ],
   "id": "a2fac91da552a2f1",
   "outputs": [
    {
     "data": {
      "text/plain": [
       "199112"
      ]
     },
     "execution_count": 3,
     "metadata": {},
     "output_type": "execute_result"
    }
   ],
   "execution_count": 3
  },
  {
   "metadata": {
    "ExecuteTime": {
     "end_time": "2024-11-24T11:21:45.928843Z",
     "start_time": "2024-11-24T11:21:45.819292Z"
    }
   },
   "cell_type": "code",
   "source": [
    "x,y = int(246/1.5),int(442/1.5)\n",
    "doClick(x,y,child)"
   ],
   "id": "88ae67996fb55108",
   "outputs": [],
   "execution_count": 4
  },
  {
   "metadata": {},
   "cell_type": "code",
   "source": "",
   "id": "a3ae6982781869fd",
   "outputs": [],
   "execution_count": null
  }
 ],
 "metadata": {
  "kernelspec": {
   "display_name": "Python 3",
   "language": "python",
   "name": "python3"
  },
  "language_info": {
   "codemirror_mode": {
    "name": "ipython",
    "version": 2
   },
   "file_extension": ".py",
   "mimetype": "text/x-python",
   "name": "python",
   "nbconvert_exporter": "python",
   "pygments_lexer": "ipython2",
   "version": "2.7.6"
  }
 },
 "nbformat": 4,
 "nbformat_minor": 5
}
