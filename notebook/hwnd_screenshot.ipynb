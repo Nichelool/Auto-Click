{
 "cells": [
  {
   "cell_type": "code",
   "id": "initial_id",
   "metadata": {
    "collapsed": true,
    "ExecuteTime": {
     "end_time": "2024-11-24T05:54:31.204927Z",
     "start_time": "2024-11-24T05:54:31.200058Z"
    }
   },
   "source": [
    "import win32gui\n",
    "import win32ui\n",
    "import cv2\n",
    "import numpy as np\n",
    "import win32ui\n",
    "import win32con"
   ],
   "outputs": [],
   "execution_count": 39
  },
  {
   "metadata": {
    "ExecuteTime": {
     "end_time": "2024-11-24T05:54:35.851875Z",
     "start_time": "2024-11-24T05:54:35.846950Z"
    }
   },
   "cell_type": "code",
   "source": [
    "name = 'MuMu模拟器1'\n",
    "handle = win32gui.FindWindow(None, name)\n",
    "handle\n"
   ],
   "id": "eed8388b55823502",
   "outputs": [
    {
     "data": {
      "text/plain": [
       "395644"
      ]
     },
     "execution_count": 40,
     "metadata": {},
     "output_type": "execute_result"
    }
   ],
   "execution_count": 40
  },
  {
   "metadata": {
    "ExecuteTime": {
     "end_time": "2024-11-24T05:54:37.036772Z",
     "start_time": "2024-11-24T05:54:37.030899Z"
    }
   },
   "cell_type": "code",
   "source": [
    "hwndDC = win32gui.GetWindowDC(handle)\n",
    "hwndDC"
   ],
   "id": "bf59e86e8148f6e7",
   "outputs": [
    {
     "data": {
      "text/plain": [
       "1929454419"
      ]
     },
     "execution_count": 41,
     "metadata": {},
     "output_type": "execute_result"
    }
   ],
   "execution_count": 41
  },
  {
   "metadata": {
    "ExecuteTime": {
     "end_time": "2024-11-24T05:54:37.323943Z",
     "start_time": "2024-11-24T05:54:37.317993Z"
    }
   },
   "cell_type": "code",
   "source": [
    "mfcDC = win32ui.CreateDCFromHandle(hwndDC)\n",
    "mfcDC"
   ],
   "id": "4bf046731c9a5d58",
   "outputs": [
    {
     "data": {
      "text/plain": [
       "object 'PyCDC' - assoc is 0000023827036718, vi=<None>"
      ]
     },
     "execution_count": 42,
     "metadata": {},
     "output_type": "execute_result"
    }
   ],
   "execution_count": 42
  },
  {
   "metadata": {
    "ExecuteTime": {
     "end_time": "2024-11-24T05:54:37.859993Z",
     "start_time": "2024-11-24T05:54:37.854895Z"
    }
   },
   "cell_type": "code",
   "source": [
    "saveDC = mfcDC.CreateCompatibleDC()\n",
    "saveDC"
   ],
   "id": "25f1f910e1c0b848",
   "outputs": [
    {
     "data": {
      "text/plain": [
       "object 'PyCDC' - assoc is 0000023827036738, vi=<None>"
      ]
     },
     "execution_count": 43,
     "metadata": {},
     "output_type": "execute_result"
    }
   ],
   "execution_count": 43
  },
  {
   "metadata": {
    "ExecuteTime": {
     "end_time": "2024-11-24T05:54:38.549924Z",
     "start_time": "2024-11-24T05:54:38.545810Z"
    }
   },
   "cell_type": "code",
   "source": "saveBitmap = win32ui.CreateBitmap()",
   "id": "a3ed8b699dcee1f7",
   "outputs": [],
   "execution_count": 44
  },
  {
   "metadata": {
    "ExecuteTime": {
     "end_time": "2024-11-24T05:54:39.135755Z",
     "start_time": "2024-11-24T05:54:39.129916Z"
    }
   },
   "cell_type": "code",
   "source": [
    "x,y,x2,y2 = win32gui.GetWindowRect(handle)\n",
    "x,y,x2,y2"
   ],
   "id": "8f91d492c5bc0526",
   "outputs": [
    {
     "data": {
      "text/plain": [
       "(195, 343, 1262, 978)"
      ]
     },
     "execution_count": 45,
     "metadata": {},
     "output_type": "execute_result"
    }
   ],
   "execution_count": 45
  },
  {
   "metadata": {},
   "cell_type": "code",
   "source": [
    "width = int((x2 - x)*1.5)\n",
    "height = int((y2 - y)*1.5)"
   ],
   "id": "c140f0032d3af98d",
   "outputs": [],
   "execution_count": null
  },
  {
   "metadata": {},
   "cell_type": "code",
   "source": "saveBitmap.CreateCompatibleBitmap(mfcDC, width, height)",
   "id": "49d1eb527b1a9332",
   "outputs": [],
   "execution_count": null
  },
  {
   "metadata": {},
   "cell_type": "code",
   "source": "saveDC.SelectObject(saveBitmap)",
   "id": "26f3d433e7fa3087",
   "outputs": [],
   "execution_count": null
  },
  {
   "metadata": {},
   "cell_type": "code",
   "source": "saveDC.BitBlt((0,0),(width,height),mfcDC,(0,0),win32con.SRCCOPY)",
   "id": "bfe5348fa14bfbad",
   "outputs": [],
   "execution_count": null
  },
  {
   "metadata": {},
   "cell_type": "code",
   "source": "signedIntsArray = saveBitmap.GetBitmapBits(True)",
   "id": "33c89877e419f488",
   "outputs": [],
   "execution_count": null
  },
  {
   "metadata": {},
   "cell_type": "code",
   "source": "in_opencv = np.frombuffer(signedIntsArray, dtype=np.uint8)",
   "id": "e032095ffca7f7ba",
   "outputs": [],
   "execution_count": null
  },
  {
   "metadata": {},
   "cell_type": "code",
   "source": "in_opencv.shape = (height, width,4)",
   "id": "649c308dbd041688",
   "outputs": [],
   "execution_count": null
  },
  {
   "metadata": {},
   "cell_type": "code",
   "source": "img = cv2.cvtColor(in_opencv, cv2.COLOR_BGRA2BGR)",
   "id": "e63714a95d0f78f8",
   "outputs": [],
   "execution_count": null
  },
  {
   "metadata": {},
   "cell_type": "code",
   "source": "img",
   "id": "6457cbe9d11d2f89",
   "outputs": [],
   "execution_count": null
  },
  {
   "metadata": {},
   "cell_type": "code",
   "source": "win32gui.DeleteObject(saveBitmap.GetHandle())",
   "id": "f8d7c6dd864e375d",
   "outputs": [],
   "execution_count": null
  },
  {
   "metadata": {},
   "cell_type": "code",
   "source": [
    "saveDC.DeleteDC()\n",
    "mfcDC.DeleteDC()\n",
    "win32gui.ReleaseDC(handle, hwndDC)"
   ],
   "id": "bc00b8c6cd3aad3e",
   "outputs": [],
   "execution_count": null
  },
  {
   "metadata": {},
   "cell_type": "code",
   "source": [
    "cv2.imshow('img',img)\n",
    "cv2.waitKey(0)"
   ],
   "id": "ad52d6bf125c499f",
   "outputs": [],
   "execution_count": null
  },
  {
   "metadata": {},
   "cell_type": "code",
   "source": "",
   "id": "d3487e35d529690b",
   "outputs": [],
   "execution_count": null
  }
 ],
 "metadata": {
  "kernelspec": {
   "display_name": "Python 3",
   "language": "python",
   "name": "python3"
  },
  "language_info": {
   "codemirror_mode": {
    "name": "ipython",
    "version": 2
   },
   "file_extension": ".py",
   "mimetype": "text/x-python",
   "name": "python",
   "nbconvert_exporter": "python",
   "pygments_lexer": "ipython2",
   "version": "2.7.6"
  }
 },
 "nbformat": 4,
 "nbformat_minor": 5
}
