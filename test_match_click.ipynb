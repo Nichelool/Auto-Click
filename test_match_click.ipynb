{
 "cells": [
  {
   "cell_type": "code",
   "id": "initial_id",
   "metadata": {
    "collapsed": true,
    "ExecuteTime": {
     "end_time": "2024-11-24T12:20:31.626305Z",
     "start_time": "2024-11-24T12:20:31.451815Z"
    }
   },
   "source": [
    "import do_click\n",
    "import pic_match\n",
    "import hwnd_screenshot\n",
    "import cv2"
   ],
   "outputs": [],
   "execution_count": 1
  },
  {
   "metadata": {
    "ExecuteTime": {
     "end_time": "2024-11-24T12:23:02.713710Z",
     "start_time": "2024-11-24T12:23:02.687504Z"
    }
   },
   "cell_type": "code",
   "source": [
    "zoom_eff = 1.5\n",
    "window_title = 'MuMu模拟器0'\n",
    "handle, child = hwnd_screenshot.get_hwnd(window_title)\n",
    "hwnd_screenshot.screenshot(handle, zoom_eff)"
   ],
   "id": "11088e08188bc04",
   "outputs": [],
   "execution_count": 18
  },
  {
   "metadata": {
    "ExecuteTime": {
     "end_time": "2024-11-24T12:23:02.897786Z",
     "start_time": "2024-11-24T12:23:02.852751Z"
    }
   },
   "cell_type": "code",
   "source": [
    "ref_img_path = '.\\pics/k28/k28_s.png'\n",
    "max_val,l_xy,r_xy = pic_match.get_xy(ref_img_path)\n",
    "max_val,l_xy # 返回最大匹配区域的匹配度以及最大匹配区域的左上点"
   ],
   "id": "7fbb9a77268deec6",
   "outputs": [
    {
     "data": {
      "text/plain": [
       "(0.9999842643737793, (732, 282))"
      ]
     },
     "execution_count": 19,
     "metadata": {},
     "output_type": "execute_result"
    }
   ],
   "execution_count": 19
  },
  {
   "metadata": {
    "ExecuteTime": {
     "end_time": "2024-11-24T12:23:03.092923Z",
     "start_time": "2024-11-24T12:23:02.983683Z"
    }
   },
   "cell_type": "code",
   "source": [
    "# 缩放换算\n",
    "x = int((l_xy[0]-5)/1.5)\n",
    "y = int((l_xy[1]-54)/1.5)\n",
    "do_click.doClick(x,y,child)"
   ],
   "id": "163ff31252225a19",
   "outputs": [],
   "execution_count": 20
  }
 ],
 "metadata": {
  "kernelspec": {
   "display_name": "Python 3",
   "language": "python",
   "name": "python3"
  },
  "language_info": {
   "codemirror_mode": {
    "name": "ipython",
    "version": 2
   },
   "file_extension": ".py",
   "mimetype": "text/x-python",
   "name": "python",
   "nbconvert_exporter": "python",
   "pygments_lexer": "ipython2",
   "version": "2.7.6"
  }
 },
 "nbformat": 4,
 "nbformat_minor": 5
}
